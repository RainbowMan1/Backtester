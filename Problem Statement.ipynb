{
 "cells": [
  {
   "cell_type": "markdown",
   "metadata": {},
   "source": [
    "## Backtester Problem Statement"
   ]
  },
  {
   "cell_type": "markdown",
   "metadata": {},
   "source": [
    "#### Following are the reasons why we are building the library and what problems we have to solve while building it"
   ]
  },
  {
   "cell_type": "markdown",
   "metadata": {},
   "source": [
    "1. To make backtesting faster. Not everyone researching an algorithm wants to write a framework to backtest.\n",
    "2. Everyone in the team will be using the same metrics and formulas so less chance there is a bug affecting the results as well as faster bug discovery as everyone will be dogfooding the library.\n",
    "3. Parallism can be leveraged to accelerate backtesting time decreasing parameter optimzation time as well as research time.\n",
    "4. Better visualizations."
   ]
  },
  {
   "cell_type": "markdown",
   "metadata": {},
   "source": [
    "### Key Data Structures and Decisions"
   ]
  },
  {
   "cell_type": "markdown",
   "metadata": {},
   "source": [
    "My design at this point of time is the following:\n",
    "\n",
    "Backtester Class has following API:\n",
    "- Backtest\n",
    "- Trade History Visualization\n",
    "- Metrics\n",
    "\n",
    "Backtest method will take in OHLCV (+ other variables) data (only one atm) and two functions entry and monitor written by the user like :\n",
    "\n",
    "`def backtest(self, entry, monitor):` where entry is the function that backtest runs to enter a position when backtesting and monitor is the function that monitors the position adding to and exiting the position based on the algorithm user provides."
   ]
  },
  {
   "cell_type": "code",
   "execution_count": 6,
   "metadata": {},
   "outputs": [],
   "source": [
    "import random\n",
    "class Backtester:\n",
    "    def __init__(self, data):\n",
    "        self.data = data\n",
    "        self.in_a_position = False\n",
    "    def backtest(self, entry,monitor):\n",
    "        for i in range(len(self.data)):\n",
    "            if self.in_a_position:\n",
    "                if monitor(self) == True:\n",
    "                    self.in_a_position = False\n",
    "                    print('we exited the trade')\n",
    "            else:\n",
    "                if entry(self) == True:\n",
    "                    print('we entered a trade')\n",
    "                    self.in_a_position = True"
   ]
  },
  {
   "cell_type": "code",
   "execution_count": 7,
   "metadata": {},
   "outputs": [],
   "source": [
    "def entry(self):\n",
    "    return random.randint(0,1)"
   ]
  },
  {
   "cell_type": "code",
   "execution_count": 8,
   "metadata": {},
   "outputs": [],
   "source": [
    "def monitor(self):\n",
    "    return random.randint(0,1)"
   ]
  },
  {
   "cell_type": "code",
   "execution_count": 9,
   "metadata": {},
   "outputs": [],
   "source": [
    "backtester = Backtester([1,2,3,4,5])"
   ]
  },
  {
   "cell_type": "code",
   "execution_count": 16,
   "metadata": {},
   "outputs": [
    {
     "name": "stdout",
     "output_type": "stream",
     "text": [
      "we entered the trade\n",
      "we monitored the trade\n",
      "we entered the trade\n"
     ]
    }
   ],
   "source": [
    "backtester.backtest(entry,monitor)"
   ]
  },
  {
   "cell_type": "markdown",
   "metadata": {},
   "source": [
    "My design for the backtest method looks as above and we leverage parallelism to backtest many parts of the data at the same time but the only problem will be a trade might not end before the segmented data ends resulting in skewed trading history at the end. To remedy this, I propose a re run to account for trades that do not end before the segmented data does. This will be demostrated in the future."
   ]
  },
  {
   "cell_type": "markdown",
   "metadata": {},
   "source": [
    "Trade History Visualization and Metrics are straight forward. The result of the backtest will be a dataframe like following:"
   ]
  },
  {
   "cell_type": "code",
   "execution_count": 18,
   "metadata": {},
   "outputs": [
    {
     "data": {
      "text/html": [
       "<div>\n",
       "<style scoped>\n",
       "    .dataframe tbody tr th:only-of-type {\n",
       "        vertical-align: middle;\n",
       "    }\n",
       "\n",
       "    .dataframe tbody tr th {\n",
       "        vertical-align: top;\n",
       "    }\n",
       "\n",
       "    .dataframe thead th {\n",
       "        text-align: right;\n",
       "    }\n",
       "</style>\n",
       "<table border=\"1\" class=\"dataframe\">\n",
       "  <thead>\n",
       "    <tr style=\"text-align: right;\">\n",
       "      <th></th>\n",
       "      <th>Trade_Type</th>\n",
       "      <th>Allocation_Count</th>\n",
       "      <th>Entry_Timestamp</th>\n",
       "      <th>Exit_Timestamp</th>\n",
       "      <th>Allocation_History</th>\n",
       "      <th>Total_Allocation</th>\n",
       "      <th>Exit_Price</th>\n",
       "      <th>Trade_PNL</th>\n",
       "      <th>Aggregate_PNL</th>\n",
       "      <th>Stopped</th>\n",
       "      <th>Trade_Duration</th>\n",
       "      <th>Trade_amount</th>\n",
       "    </tr>\n",
       "  </thead>\n",
       "  <tbody>\n",
       "  </tbody>\n",
       "</table>\n",
       "</div>"
      ],
      "text/plain": [
       "Empty DataFrame\n",
       "Columns: [Trade_Type, Allocation_Count, Entry_Timestamp, Exit_Timestamp, Allocation_History, Total_Allocation, Exit_Price, Trade_PNL, Aggregate_PNL, Stopped, Trade_Duration, Trade_amount]\n",
       "Index: []"
      ]
     },
     "execution_count": 18,
     "metadata": {},
     "output_type": "execute_result"
    }
   ],
   "source": [
    "import pandas as pd\n",
    "pd.DataFrame(columns = ['Trade_Type','Allocation_Count', 'Entry_Timestamp', 'Exit_Timestamp', 'Allocation_History', 'Total_Allocation', 'Exit_Price', 'Trade_PNL','Aggregate_PNL', 'Stopped', 'Trade_Duration', 'Trade_amount'])"
   ]
  },
  {
   "cell_type": "markdown",
   "metadata": {},
   "source": [
    "From which we make visualization maybe with Plot.ly to make a graph of the trade history allowing us to visualize where the trades are happening with Entry Timestamp and when they are ending with Exit_Timestamp and bunch of other variables"
   ]
  },
  {
   "cell_type": "markdown",
   "metadata": {},
   "source": [
    "Metrics will be pretty straightforward as well. It will give us a different metrics and visualization based on the Trade History result we get from the backtest"
   ]
  },
  {
   "cell_type": "code",
   "execution_count": null,
   "metadata": {},
   "outputs": [],
   "source": []
  }
 ],
 "metadata": {
  "kernelspec": {
   "display_name": "Python 3",
   "language": "python",
   "name": "python3"
  },
  "language_info": {
   "codemirror_mode": {
    "name": "ipython",
    "version": 3
   },
   "file_extension": ".py",
   "mimetype": "text/x-python",
   "name": "python",
   "nbconvert_exporter": "python",
   "pygments_lexer": "ipython3",
   "version": "3.7.9"
  }
 },
 "nbformat": 4,
 "nbformat_minor": 4
}
